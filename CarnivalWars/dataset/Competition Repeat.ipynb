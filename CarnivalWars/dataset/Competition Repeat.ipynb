{
 "cells": [
  {
   "cell_type": "code",
   "execution_count": 1,
   "metadata": {},
   "outputs": [],
   "source": [
    "import numpy as np\n",
    "import pandas as pd\n",
    "import matplotlib.pyplot as plt\n",
    "import seaborn as sns\n",
    "%matplotlib inline"
   ]
  },
  {
   "cell_type": "code",
   "execution_count": 2,
   "metadata": {},
   "outputs": [
    {
     "data": {
      "text/plain": [
       "((6368, 15), (3430, 14))"
      ]
     },
     "execution_count": 2,
     "metadata": {},
     "output_type": "execute_result"
    }
   ],
   "source": [
    "train_data=pd.read_csv('train.csv')\n",
    "test_data=pd.read_csv('test.csv')\n",
    "train_data.shape,test_data.shape"
   ]
  },
  {
   "cell_type": "code",
   "execution_count": 3,
   "metadata": {},
   "outputs": [],
   "source": [
    "pd.set_option('display.max_columns',None)"
   ]
  },
  {
   "cell_type": "code",
   "execution_count": 4,
   "metadata": {},
   "outputs": [],
   "source": [
    "train_data.drop(['Product_id','Customer_name'],axis=1,inplace=True)\n",
    "test_data.drop(['Product_id','Customer_name'],axis=1,inplace=True)"
   ]
  },
  {
   "cell_type": "code",
   "execution_count": 5,
   "metadata": {},
   "outputs": [],
   "source": [
    "from sklearn.preprocessing import LabelEncoder\n",
    "le=LabelEncoder()\n",
    "train_data['Loyalty_customer']=le.fit_transform(train_data['Loyalty_customer'])\n",
    "\n",
    "test_data['Loyalty_customer']=le.fit_transform(test_data['Loyalty_customer'])"
   ]
  },
  {
   "cell_type": "code",
   "execution_count": 6,
   "metadata": {},
   "outputs": [],
   "source": [
    "train_data['instock_month']=pd.to_datetime(train_data['instock_date']).dt.month\n",
    "train_data['instock_day']=pd.to_datetime(train_data['instock_date']).dt.weekday\n",
    "train_data['instock_monthdate']=pd.to_datetime(train_data['instock_date']).dt.day\n",
    "train_data['instock_year']=pd.to_datetime(train_data['instock_date']).dt.year\n",
    "test_data['instock_month']=pd.to_datetime(test_data['instock_date']).dt.month\n",
    "test_data['instock_day']=pd.to_datetime(test_data['instock_date']).dt.weekday\n",
    "test_data['instock_monthdate']=pd.to_datetime(test_data['instock_date']).dt.day\n",
    "test_data['instock_year']=pd.to_datetime(test_data['instock_date']).dt.year"
   ]
  },
  {
   "cell_type": "code",
   "execution_count": 7,
   "metadata": {},
   "outputs": [],
   "source": [
    "product=train_data[['Product_Category']]\n",
    "product=pd.get_dummies(product,drop_first=True)\n",
    "\n",
    "\n",
    "product_test=test_data[['Product_Category']]\n",
    "product_test=pd.get_dummies(product_test,drop_first=True)\n"
   ]
  },
  {
   "cell_type": "code",
   "execution_count": 8,
   "metadata": {},
   "outputs": [],
   "source": [
    "train_data=pd.concat([train_data,product],axis=1)\n",
    "test_data=pd.concat([test_data,product_test],axis=1)"
   ]
  },
  {
   "cell_type": "code",
   "execution_count": 9,
   "metadata": {},
   "outputs": [],
   "source": [
    "train_data.drop(['instock_date','Product_Category'],axis=1,inplace=True)\n",
    "test_data.drop(['instock_date','Product_Category'],axis=1,inplace=True)"
   ]
  },
  {
   "cell_type": "code",
   "execution_count": 10,
   "metadata": {},
   "outputs": [],
   "source": [
    "train_data['Stall_no']=train_data['Stall_no'].fillna(train_data['Stall_no'].median())\n",
    "test_data['Stall_no']=test_data['Stall_no'].fillna(test_data['Stall_no'].median())\n",
    "\n",
    "train_data['charges_1']=train_data['charges_1'].fillna(train_data['charges_1'].median())\n",
    "train_data['charges_2 (%)']=train_data['charges_2 (%)'].fillna(train_data['charges_2 (%)'].median())\n",
    "train_data['Minimum_price']=train_data['Minimum_price'].fillna(train_data['Minimum_price'].median())\n",
    "\n",
    "test_data['charges_1']=test_data['charges_1'].fillna(test_data['charges_1'].median())\n",
    "test_data['charges_2 (%)']=test_data['charges_2 (%)'].fillna(test_data['charges_2 (%)'].median())\n",
    "test_data['Minimum_price']=test_data['Minimum_price'].fillna(test_data['Minimum_price'].median())\n",
    "\n",
    "train_data['Maximum_price']=train_data['Maximum_price'].fillna(train_data['Maximum_price'].median())\n",
    "train_data['Selling_Price']=train_data['Selling_Price'].fillna(train_data['Selling_Price'].median())"
   ]
  },
  {
   "cell_type": "code",
   "execution_count": 11,
   "metadata": {},
   "outputs": [],
   "source": [
    "train_data['Discount_avail']=train_data['Discount_avail'].fillna(train_data['Discount_avail'].median())"
   ]
  },
  {
   "cell_type": "code",
   "execution_count": 12,
   "metadata": {},
   "outputs": [
    {
     "data": {
      "text/html": [
       "<div>\n",
       "<style scoped>\n",
       "    .dataframe tbody tr th:only-of-type {\n",
       "        vertical-align: middle;\n",
       "    }\n",
       "\n",
       "    .dataframe tbody tr th {\n",
       "        vertical-align: top;\n",
       "    }\n",
       "\n",
       "    .dataframe thead th {\n",
       "        text-align: right;\n",
       "    }\n",
       "</style>\n",
       "<table border=\"1\" class=\"dataframe\">\n",
       "  <thead>\n",
       "    <tr style=\"text-align: right;\">\n",
       "      <th></th>\n",
       "      <th>Stall_no</th>\n",
       "      <th>Market_Category</th>\n",
       "      <th>Loyalty_customer</th>\n",
       "      <th>Grade</th>\n",
       "      <th>Demand</th>\n",
       "      <th>Discount_avail</th>\n",
       "      <th>charges_1</th>\n",
       "      <th>charges_2 (%)</th>\n",
       "      <th>Minimum_price</th>\n",
       "      <th>Maximum_price</th>\n",
       "      <th>Selling_Price</th>\n",
       "      <th>instock_month</th>\n",
       "      <th>instock_day</th>\n",
       "      <th>instock_monthdate</th>\n",
       "      <th>instock_year</th>\n",
       "      <th>Product_Category_Cosmetics</th>\n",
       "      <th>Product_Category_Educational</th>\n",
       "      <th>Product_Category_Fashion</th>\n",
       "      <th>Product_Category_Home_decor</th>\n",
       "      <th>Product_Category_Hospitality</th>\n",
       "      <th>Product_Category_Organic</th>\n",
       "      <th>Product_Category_Pet_care</th>\n",
       "      <th>Product_Category_Repair</th>\n",
       "      <th>Product_Category_Technology</th>\n",
       "    </tr>\n",
       "  </thead>\n",
       "  <tbody>\n",
       "    <tr>\n",
       "      <th>0</th>\n",
       "      <td>37.0</td>\n",
       "      <td>2</td>\n",
       "      <td>1</td>\n",
       "      <td>1</td>\n",
       "      <td>68</td>\n",
       "      <td>0.0</td>\n",
       "      <td>376.0</td>\n",
       "      <td>11.0</td>\n",
       "      <td>2983.0</td>\n",
       "      <td>4713.0</td>\n",
       "      <td>4185.9477</td>\n",
       "      <td>8</td>\n",
       "      <td>5</td>\n",
       "      <td>22</td>\n",
       "      <td>2015</td>\n",
       "      <td>0</td>\n",
       "      <td>0</td>\n",
       "      <td>1</td>\n",
       "      <td>0</td>\n",
       "      <td>0</td>\n",
       "      <td>0</td>\n",
       "      <td>0</td>\n",
       "      <td>0</td>\n",
       "      <td>0</td>\n",
       "    </tr>\n",
       "  </tbody>\n",
       "</table>\n",
       "</div>"
      ],
      "text/plain": [
       "   Stall_no  Market_Category  Loyalty_customer  Grade  Demand  Discount_avail  \\\n",
       "0      37.0                2                 1      1      68             0.0   \n",
       "\n",
       "   charges_1  charges_2 (%)  Minimum_price  Maximum_price  Selling_Price  \\\n",
       "0      376.0           11.0         2983.0         4713.0      4185.9477   \n",
       "\n",
       "   instock_month  instock_day  instock_monthdate  instock_year  \\\n",
       "0              8            5                 22          2015   \n",
       "\n",
       "   Product_Category_Cosmetics  Product_Category_Educational  \\\n",
       "0                           0                             0   \n",
       "\n",
       "   Product_Category_Fashion  Product_Category_Home_decor  \\\n",
       "0                         1                            0   \n",
       "\n",
       "   Product_Category_Hospitality  Product_Category_Organic  \\\n",
       "0                             0                         0   \n",
       "\n",
       "   Product_Category_Pet_care  Product_Category_Repair  \\\n",
       "0                          0                        0   \n",
       "\n",
       "   Product_Category_Technology  \n",
       "0                            0  "
      ]
     },
     "execution_count": 12,
     "metadata": {},
     "output_type": "execute_result"
    }
   ],
   "source": [
    "train_data.head(1)"
   ]
  },
  {
   "cell_type": "code",
   "execution_count": 13,
   "metadata": {},
   "outputs": [
    {
     "data": {
      "text/html": [
       "<div>\n",
       "<style scoped>\n",
       "    .dataframe tbody tr th:only-of-type {\n",
       "        vertical-align: middle;\n",
       "    }\n",
       "\n",
       "    .dataframe tbody tr th {\n",
       "        vertical-align: top;\n",
       "    }\n",
       "\n",
       "    .dataframe thead th {\n",
       "        text-align: right;\n",
       "    }\n",
       "</style>\n",
       "<table border=\"1\" class=\"dataframe\">\n",
       "  <thead>\n",
       "    <tr style=\"text-align: right;\">\n",
       "      <th></th>\n",
       "      <th>Stall_no</th>\n",
       "      <th>Market_Category</th>\n",
       "      <th>Loyalty_customer</th>\n",
       "      <th>Grade</th>\n",
       "      <th>Demand</th>\n",
       "      <th>Discount_avail</th>\n",
       "      <th>charges_1</th>\n",
       "      <th>charges_2 (%)</th>\n",
       "      <th>Minimum_price</th>\n",
       "      <th>Maximum_price</th>\n",
       "      <th>instock_month</th>\n",
       "      <th>instock_day</th>\n",
       "      <th>instock_monthdate</th>\n",
       "      <th>instock_year</th>\n",
       "      <th>Product_Category_Cosmetics</th>\n",
       "      <th>Product_Category_Educational</th>\n",
       "      <th>Product_Category_Fashion</th>\n",
       "      <th>Product_Category_Home_decor</th>\n",
       "      <th>Product_Category_Hospitality</th>\n",
       "      <th>Product_Category_Organic</th>\n",
       "      <th>Product_Category_Pet_care</th>\n",
       "      <th>Product_Category_Repair</th>\n",
       "      <th>Product_Category_Technology</th>\n",
       "    </tr>\n",
       "  </thead>\n",
       "  <tbody>\n",
       "    <tr>\n",
       "      <th>0</th>\n",
       "      <td>39.0</td>\n",
       "      <td>205</td>\n",
       "      <td>0</td>\n",
       "      <td>0</td>\n",
       "      <td>90</td>\n",
       "      <td>0</td>\n",
       "      <td>380.0</td>\n",
       "      <td>16.0</td>\n",
       "      <td>2576.0</td>\n",
       "      <td>3340</td>\n",
       "      <td>1</td>\n",
       "      <td>2</td>\n",
       "      <td>13</td>\n",
       "      <td>2016</td>\n",
       "      <td>0</td>\n",
       "      <td>0</td>\n",
       "      <td>1</td>\n",
       "      <td>0</td>\n",
       "      <td>0</td>\n",
       "      <td>0</td>\n",
       "      <td>0</td>\n",
       "      <td>0</td>\n",
       "      <td>0</td>\n",
       "    </tr>\n",
       "  </tbody>\n",
       "</table>\n",
       "</div>"
      ],
      "text/plain": [
       "   Stall_no  Market_Category  Loyalty_customer  Grade  Demand  Discount_avail  \\\n",
       "0      39.0              205                 0      0      90               0   \n",
       "\n",
       "   charges_1  charges_2 (%)  Minimum_price  Maximum_price  instock_month  \\\n",
       "0      380.0           16.0         2576.0           3340              1   \n",
       "\n",
       "   instock_day  instock_monthdate  instock_year  Product_Category_Cosmetics  \\\n",
       "0            2                 13          2016                           0   \n",
       "\n",
       "   Product_Category_Educational  Product_Category_Fashion  \\\n",
       "0                             0                         1   \n",
       "\n",
       "   Product_Category_Home_decor  Product_Category_Hospitality  \\\n",
       "0                            0                             0   \n",
       "\n",
       "   Product_Category_Organic  Product_Category_Pet_care  \\\n",
       "0                         0                          0   \n",
       "\n",
       "   Product_Category_Repair  Product_Category_Technology  \n",
       "0                        0                            0  "
      ]
     },
     "execution_count": 13,
     "metadata": {},
     "output_type": "execute_result"
    }
   ],
   "source": [
    "test_data.head(1)"
   ]
  },
  {
   "cell_type": "code",
   "execution_count": 14,
   "metadata": {},
   "outputs": [],
   "source": [
    "import numpy as np\n",
    "train_data['Maximum_price_trans']=np.log(train_data['Maximum_price'])\n",
    "test_data['Maximum_price_trans']=np.log(test_data['Maximum_price'])\n"
   ]
  },
  {
   "cell_type": "code",
   "execution_count": 15,
   "metadata": {},
   "outputs": [],
   "source": [
    "train_data['Minprice_square']=train_data.Minimum_price**(1/2)\n",
    "test_data['Minprice_square']=test_data.Minimum_price**(1/2)"
   ]
  },
  {
   "cell_type": "code",
   "execution_count": 16,
   "metadata": {},
   "outputs": [],
   "source": [
    "train_data['charges_1_trans']=np.log(train_data['charges_1'])\n",
    "test_data['charges_1_trans']=np.log(test_data['charges_1'])"
   ]
  },
  {
   "cell_type": "code",
   "execution_count": 17,
   "metadata": {},
   "outputs": [],
   "source": [
    "train_data['charges_2 (%)sq']=train_data['charges_2 (%)']**(1/2)\n",
    "test_data['charges_2 (%)sq']=test_data['charges_2 (%)']**(1/2)"
   ]
  },
  {
   "cell_type": "code",
   "execution_count": 18,
   "metadata": {},
   "outputs": [
    {
     "data": {
      "text/plain": [
       "((6368, 28), (3430, 27))"
      ]
     },
     "execution_count": 18,
     "metadata": {},
     "output_type": "execute_result"
    }
   ],
   "source": [
    "train_data.shape,test_data.shape"
   ]
  },
  {
   "cell_type": "code",
   "execution_count": 20,
   "metadata": {},
   "outputs": [
    {
     "data": {
      "text/html": [
       "<div>\n",
       "<style scoped>\n",
       "    .dataframe tbody tr th:only-of-type {\n",
       "        vertical-align: middle;\n",
       "    }\n",
       "\n",
       "    .dataframe tbody tr th {\n",
       "        vertical-align: top;\n",
       "    }\n",
       "\n",
       "    .dataframe thead th {\n",
       "        text-align: right;\n",
       "    }\n",
       "</style>\n",
       "<table border=\"1\" class=\"dataframe\">\n",
       "  <thead>\n",
       "    <tr style=\"text-align: right;\">\n",
       "      <th></th>\n",
       "      <th>Stall_no</th>\n",
       "      <th>Market_Category</th>\n",
       "      <th>Loyalty_customer</th>\n",
       "      <th>Grade</th>\n",
       "      <th>Demand</th>\n",
       "      <th>Discount_avail</th>\n",
       "      <th>charges_1</th>\n",
       "      <th>charges_2 (%)</th>\n",
       "      <th>Minimum_price</th>\n",
       "      <th>Maximum_price</th>\n",
       "      <th>Selling_Price</th>\n",
       "      <th>instock_month</th>\n",
       "      <th>instock_day</th>\n",
       "      <th>instock_monthdate</th>\n",
       "      <th>instock_year</th>\n",
       "      <th>Product_Category_Cosmetics</th>\n",
       "      <th>Product_Category_Educational</th>\n",
       "      <th>Product_Category_Fashion</th>\n",
       "      <th>Product_Category_Home_decor</th>\n",
       "      <th>Product_Category_Hospitality</th>\n",
       "      <th>Product_Category_Organic</th>\n",
       "      <th>Product_Category_Pet_care</th>\n",
       "      <th>Product_Category_Repair</th>\n",
       "      <th>Product_Category_Technology</th>\n",
       "      <th>Maximum_price_trans</th>\n",
       "      <th>Minprice_square</th>\n",
       "      <th>charges_1_trans</th>\n",
       "      <th>charges_2 (%)sq</th>\n",
       "    </tr>\n",
       "  </thead>\n",
       "  <tbody>\n",
       "    <tr>\n",
       "      <th>0</th>\n",
       "      <td>37.0</td>\n",
       "      <td>2</td>\n",
       "      <td>1</td>\n",
       "      <td>1</td>\n",
       "      <td>68</td>\n",
       "      <td>0.0</td>\n",
       "      <td>376.0</td>\n",
       "      <td>11.0</td>\n",
       "      <td>2983.0</td>\n",
       "      <td>4713.0</td>\n",
       "      <td>4185.947700</td>\n",
       "      <td>8</td>\n",
       "      <td>5</td>\n",
       "      <td>22</td>\n",
       "      <td>2015</td>\n",
       "      <td>0</td>\n",
       "      <td>0</td>\n",
       "      <td>1</td>\n",
       "      <td>0</td>\n",
       "      <td>0</td>\n",
       "      <td>0</td>\n",
       "      <td>0</td>\n",
       "      <td>0</td>\n",
       "      <td>0</td>\n",
       "      <td>8.458080</td>\n",
       "      <td>54.616847</td>\n",
       "      <td>5.929589</td>\n",
       "      <td>3.316625</td>\n",
       "    </tr>\n",
       "    <tr>\n",
       "      <th>1</th>\n",
       "      <td>38.0</td>\n",
       "      <td>24</td>\n",
       "      <td>1</td>\n",
       "      <td>0</td>\n",
       "      <td>51</td>\n",
       "      <td>0.0</td>\n",
       "      <td>397.0</td>\n",
       "      <td>12.0</td>\n",
       "      <td>7495.0</td>\n",
       "      <td>10352.0</td>\n",
       "      <td>9271.490256</td>\n",
       "      <td>3</td>\n",
       "      <td>6</td>\n",
       "      <td>27</td>\n",
       "      <td>2016</td>\n",
       "      <td>0</td>\n",
       "      <td>0</td>\n",
       "      <td>1</td>\n",
       "      <td>0</td>\n",
       "      <td>0</td>\n",
       "      <td>0</td>\n",
       "      <td>0</td>\n",
       "      <td>0</td>\n",
       "      <td>0</td>\n",
       "      <td>9.244935</td>\n",
       "      <td>86.573668</td>\n",
       "      <td>5.983936</td>\n",
       "      <td>3.464102</td>\n",
       "    </tr>\n",
       "    <tr>\n",
       "      <th>2</th>\n",
       "      <td>9.0</td>\n",
       "      <td>447</td>\n",
       "      <td>1</td>\n",
       "      <td>0</td>\n",
       "      <td>10</td>\n",
       "      <td>0.0</td>\n",
       "      <td>250.0</td>\n",
       "      <td>9.0</td>\n",
       "      <td>5752.0</td>\n",
       "      <td>7309.0</td>\n",
       "      <td>6785.701362</td>\n",
       "      <td>8</td>\n",
       "      <td>1</td>\n",
       "      <td>18</td>\n",
       "      <td>2015</td>\n",
       "      <td>0</td>\n",
       "      <td>0</td>\n",
       "      <td>0</td>\n",
       "      <td>0</td>\n",
       "      <td>0</td>\n",
       "      <td>0</td>\n",
       "      <td>0</td>\n",
       "      <td>0</td>\n",
       "      <td>0</td>\n",
       "      <td>8.896862</td>\n",
       "      <td>75.841941</td>\n",
       "      <td>5.521461</td>\n",
       "      <td>3.000000</td>\n",
       "    </tr>\n",
       "    <tr>\n",
       "      <th>3</th>\n",
       "      <td>50.0</td>\n",
       "      <td>23</td>\n",
       "      <td>1</td>\n",
       "      <td>2</td>\n",
       "      <td>48</td>\n",
       "      <td>0.0</td>\n",
       "      <td>144.0</td>\n",
       "      <td>13.0</td>\n",
       "      <td>5090.0</td>\n",
       "      <td>20814.0</td>\n",
       "      <td>13028.917824</td>\n",
       "      <td>3</td>\n",
       "      <td>0</td>\n",
       "      <td>28</td>\n",
       "      <td>2016</td>\n",
       "      <td>0</td>\n",
       "      <td>1</td>\n",
       "      <td>0</td>\n",
       "      <td>0</td>\n",
       "      <td>0</td>\n",
       "      <td>0</td>\n",
       "      <td>0</td>\n",
       "      <td>0</td>\n",
       "      <td>0</td>\n",
       "      <td>9.943381</td>\n",
       "      <td>71.344236</td>\n",
       "      <td>4.969813</td>\n",
       "      <td>3.605551</td>\n",
       "    </tr>\n",
       "    <tr>\n",
       "      <th>4</th>\n",
       "      <td>7.0</td>\n",
       "      <td>63</td>\n",
       "      <td>1</td>\n",
       "      <td>1</td>\n",
       "      <td>35</td>\n",
       "      <td>1.0</td>\n",
       "      <td>211.0</td>\n",
       "      <td>4.0</td>\n",
       "      <td>2430.0</td>\n",
       "      <td>9261.0</td>\n",
       "      <td>906.553935</td>\n",
       "      <td>3</td>\n",
       "      <td>1</td>\n",
       "      <td>29</td>\n",
       "      <td>2016</td>\n",
       "      <td>0</td>\n",
       "      <td>0</td>\n",
       "      <td>0</td>\n",
       "      <td>0</td>\n",
       "      <td>0</td>\n",
       "      <td>0</td>\n",
       "      <td>0</td>\n",
       "      <td>1</td>\n",
       "      <td>0</td>\n",
       "      <td>9.133567</td>\n",
       "      <td>49.295030</td>\n",
       "      <td>5.351858</td>\n",
       "      <td>2.000000</td>\n",
       "    </tr>\n",
       "  </tbody>\n",
       "</table>\n",
       "</div>"
      ],
      "text/plain": [
       "   Stall_no  Market_Category  Loyalty_customer  Grade  Demand  Discount_avail  \\\n",
       "0      37.0                2                 1      1      68             0.0   \n",
       "1      38.0               24                 1      0      51             0.0   \n",
       "2       9.0              447                 1      0      10             0.0   \n",
       "3      50.0               23                 1      2      48             0.0   \n",
       "4       7.0               63                 1      1      35             1.0   \n",
       "\n",
       "   charges_1  charges_2 (%)  Minimum_price  Maximum_price  Selling_Price  \\\n",
       "0      376.0           11.0         2983.0         4713.0    4185.947700   \n",
       "1      397.0           12.0         7495.0        10352.0    9271.490256   \n",
       "2      250.0            9.0         5752.0         7309.0    6785.701362   \n",
       "3      144.0           13.0         5090.0        20814.0   13028.917824   \n",
       "4      211.0            4.0         2430.0         9261.0     906.553935   \n",
       "\n",
       "   instock_month  instock_day  instock_monthdate  instock_year  \\\n",
       "0              8            5                 22          2015   \n",
       "1              3            6                 27          2016   \n",
       "2              8            1                 18          2015   \n",
       "3              3            0                 28          2016   \n",
       "4              3            1                 29          2016   \n",
       "\n",
       "   Product_Category_Cosmetics  Product_Category_Educational  \\\n",
       "0                           0                             0   \n",
       "1                           0                             0   \n",
       "2                           0                             0   \n",
       "3                           0                             1   \n",
       "4                           0                             0   \n",
       "\n",
       "   Product_Category_Fashion  Product_Category_Home_decor  \\\n",
       "0                         1                            0   \n",
       "1                         1                            0   \n",
       "2                         0                            0   \n",
       "3                         0                            0   \n",
       "4                         0                            0   \n",
       "\n",
       "   Product_Category_Hospitality  Product_Category_Organic  \\\n",
       "0                             0                         0   \n",
       "1                             0                         0   \n",
       "2                             0                         0   \n",
       "3                             0                         0   \n",
       "4                             0                         0   \n",
       "\n",
       "   Product_Category_Pet_care  Product_Category_Repair  \\\n",
       "0                          0                        0   \n",
       "1                          0                        0   \n",
       "2                          0                        0   \n",
       "3                          0                        0   \n",
       "4                          0                        1   \n",
       "\n",
       "   Product_Category_Technology  Maximum_price_trans  Minprice_square  \\\n",
       "0                            0             8.458080        54.616847   \n",
       "1                            0             9.244935        86.573668   \n",
       "2                            0             8.896862        75.841941   \n",
       "3                            0             9.943381        71.344236   \n",
       "4                            0             9.133567        49.295030   \n",
       "\n",
       "   charges_1_trans  charges_2 (%)sq  \n",
       "0         5.929589         3.316625  \n",
       "1         5.983936         3.464102  \n",
       "2         5.521461         3.000000  \n",
       "3         4.969813         3.605551  \n",
       "4         5.351858         2.000000  "
      ]
     },
     "execution_count": 20,
     "metadata": {},
     "output_type": "execute_result"
    }
   ],
   "source": [
    "train_data.head()"
   ]
  },
  {
   "cell_type": "code",
   "execution_count": 21,
   "metadata": {},
   "outputs": [
    {
     "data": {
      "text/html": [
       "<div>\n",
       "<style scoped>\n",
       "    .dataframe tbody tr th:only-of-type {\n",
       "        vertical-align: middle;\n",
       "    }\n",
       "\n",
       "    .dataframe tbody tr th {\n",
       "        vertical-align: top;\n",
       "    }\n",
       "\n",
       "    .dataframe thead th {\n",
       "        text-align: right;\n",
       "    }\n",
       "</style>\n",
       "<table border=\"1\" class=\"dataframe\">\n",
       "  <thead>\n",
       "    <tr style=\"text-align: right;\">\n",
       "      <th></th>\n",
       "      <th>Stall_no</th>\n",
       "      <th>Market_Category</th>\n",
       "      <th>Loyalty_customer</th>\n",
       "      <th>Grade</th>\n",
       "      <th>Demand</th>\n",
       "      <th>Discount_avail</th>\n",
       "      <th>charges_1</th>\n",
       "      <th>charges_2 (%)</th>\n",
       "      <th>Minimum_price</th>\n",
       "      <th>Maximum_price</th>\n",
       "      <th>instock_month</th>\n",
       "      <th>instock_day</th>\n",
       "      <th>instock_monthdate</th>\n",
       "      <th>instock_year</th>\n",
       "      <th>Product_Category_Cosmetics</th>\n",
       "      <th>Product_Category_Educational</th>\n",
       "      <th>Product_Category_Fashion</th>\n",
       "      <th>Product_Category_Home_decor</th>\n",
       "      <th>Product_Category_Hospitality</th>\n",
       "      <th>Product_Category_Organic</th>\n",
       "      <th>Product_Category_Pet_care</th>\n",
       "      <th>Product_Category_Repair</th>\n",
       "      <th>Product_Category_Technology</th>\n",
       "      <th>Maximum_price_trans</th>\n",
       "      <th>Minprice_square</th>\n",
       "      <th>charges_1_trans</th>\n",
       "      <th>charges_2 (%)sq</th>\n",
       "    </tr>\n",
       "  </thead>\n",
       "  <tbody>\n",
       "    <tr>\n",
       "      <th>0</th>\n",
       "      <td>39.0</td>\n",
       "      <td>205</td>\n",
       "      <td>0</td>\n",
       "      <td>0</td>\n",
       "      <td>90</td>\n",
       "      <td>0</td>\n",
       "      <td>380.0</td>\n",
       "      <td>16.0</td>\n",
       "      <td>2576.0</td>\n",
       "      <td>3340</td>\n",
       "      <td>1</td>\n",
       "      <td>2</td>\n",
       "      <td>13</td>\n",
       "      <td>2016</td>\n",
       "      <td>0</td>\n",
       "      <td>0</td>\n",
       "      <td>1</td>\n",
       "      <td>0</td>\n",
       "      <td>0</td>\n",
       "      <td>0</td>\n",
       "      <td>0</td>\n",
       "      <td>0</td>\n",
       "      <td>0</td>\n",
       "      <td>8.113726</td>\n",
       "      <td>50.754310</td>\n",
       "      <td>5.940171</td>\n",
       "      <td>4.0</td>\n",
       "    </tr>\n",
       "    <tr>\n",
       "      <th>1</th>\n",
       "      <td>49.0</td>\n",
       "      <td>3</td>\n",
       "      <td>1</td>\n",
       "      <td>0</td>\n",
       "      <td>87</td>\n",
       "      <td>0</td>\n",
       "      <td>393.0</td>\n",
       "      <td>16.0</td>\n",
       "      <td>1202.0</td>\n",
       "      <td>1955</td>\n",
       "      <td>8</td>\n",
       "      <td>6</td>\n",
       "      <td>23</td>\n",
       "      <td>2015</td>\n",
       "      <td>0</td>\n",
       "      <td>0</td>\n",
       "      <td>1</td>\n",
       "      <td>0</td>\n",
       "      <td>0</td>\n",
       "      <td>0</td>\n",
       "      <td>0</td>\n",
       "      <td>0</td>\n",
       "      <td>0</td>\n",
       "      <td>7.578145</td>\n",
       "      <td>34.669872</td>\n",
       "      <td>5.973810</td>\n",
       "      <td>4.0</td>\n",
       "    </tr>\n",
       "    <tr>\n",
       "      <th>2</th>\n",
       "      <td>1.0</td>\n",
       "      <td>183</td>\n",
       "      <td>0</td>\n",
       "      <td>2</td>\n",
       "      <td>55</td>\n",
       "      <td>0</td>\n",
       "      <td>493.0</td>\n",
       "      <td>9.0</td>\n",
       "      <td>7175.0</td>\n",
       "      <td>15715</td>\n",
       "      <td>11</td>\n",
       "      <td>5</td>\n",
       "      <td>14</td>\n",
       "      <td>2015</td>\n",
       "      <td>0</td>\n",
       "      <td>0</td>\n",
       "      <td>0</td>\n",
       "      <td>0</td>\n",
       "      <td>0</td>\n",
       "      <td>0</td>\n",
       "      <td>0</td>\n",
       "      <td>0</td>\n",
       "      <td>1</td>\n",
       "      <td>9.662371</td>\n",
       "      <td>84.705372</td>\n",
       "      <td>6.200509</td>\n",
       "      <td>3.0</td>\n",
       "    </tr>\n",
       "    <tr>\n",
       "      <th>3</th>\n",
       "      <td>8.0</td>\n",
       "      <td>358</td>\n",
       "      <td>1</td>\n",
       "      <td>3</td>\n",
       "      <td>86</td>\n",
       "      <td>0</td>\n",
       "      <td>303.0</td>\n",
       "      <td>16.0</td>\n",
       "      <td>5404.0</td>\n",
       "      <td>13078</td>\n",
       "      <td>11</td>\n",
       "      <td>5</td>\n",
       "      <td>21</td>\n",
       "      <td>2015</td>\n",
       "      <td>0</td>\n",
       "      <td>0</td>\n",
       "      <td>0</td>\n",
       "      <td>0</td>\n",
       "      <td>0</td>\n",
       "      <td>0</td>\n",
       "      <td>0</td>\n",
       "      <td>0</td>\n",
       "      <td>0</td>\n",
       "      <td>9.478687</td>\n",
       "      <td>73.511904</td>\n",
       "      <td>5.713733</td>\n",
       "      <td>4.0</td>\n",
       "    </tr>\n",
       "    <tr>\n",
       "      <th>4</th>\n",
       "      <td>33.0</td>\n",
       "      <td>167</td>\n",
       "      <td>0</td>\n",
       "      <td>0</td>\n",
       "      <td>27</td>\n",
       "      <td>0</td>\n",
       "      <td>567.0</td>\n",
       "      <td>16.0</td>\n",
       "      <td>4069.0</td>\n",
       "      <td>6244</td>\n",
       "      <td>5</td>\n",
       "      <td>2</td>\n",
       "      <td>6</td>\n",
       "      <td>2015</td>\n",
       "      <td>0</td>\n",
       "      <td>0</td>\n",
       "      <td>0</td>\n",
       "      <td>0</td>\n",
       "      <td>0</td>\n",
       "      <td>0</td>\n",
       "      <td>0</td>\n",
       "      <td>0</td>\n",
       "      <td>1</td>\n",
       "      <td>8.739376</td>\n",
       "      <td>63.788714</td>\n",
       "      <td>6.340359</td>\n",
       "      <td>4.0</td>\n",
       "    </tr>\n",
       "  </tbody>\n",
       "</table>\n",
       "</div>"
      ],
      "text/plain": [
       "   Stall_no  Market_Category  Loyalty_customer  Grade  Demand  Discount_avail  \\\n",
       "0      39.0              205                 0      0      90               0   \n",
       "1      49.0                3                 1      0      87               0   \n",
       "2       1.0              183                 0      2      55               0   \n",
       "3       8.0              358                 1      3      86               0   \n",
       "4      33.0              167                 0      0      27               0   \n",
       "\n",
       "   charges_1  charges_2 (%)  Minimum_price  Maximum_price  instock_month  \\\n",
       "0      380.0           16.0         2576.0           3340              1   \n",
       "1      393.0           16.0         1202.0           1955              8   \n",
       "2      493.0            9.0         7175.0          15715             11   \n",
       "3      303.0           16.0         5404.0          13078             11   \n",
       "4      567.0           16.0         4069.0           6244              5   \n",
       "\n",
       "   instock_day  instock_monthdate  instock_year  Product_Category_Cosmetics  \\\n",
       "0            2                 13          2016                           0   \n",
       "1            6                 23          2015                           0   \n",
       "2            5                 14          2015                           0   \n",
       "3            5                 21          2015                           0   \n",
       "4            2                  6          2015                           0   \n",
       "\n",
       "   Product_Category_Educational  Product_Category_Fashion  \\\n",
       "0                             0                         1   \n",
       "1                             0                         1   \n",
       "2                             0                         0   \n",
       "3                             0                         0   \n",
       "4                             0                         0   \n",
       "\n",
       "   Product_Category_Home_decor  Product_Category_Hospitality  \\\n",
       "0                            0                             0   \n",
       "1                            0                             0   \n",
       "2                            0                             0   \n",
       "3                            0                             0   \n",
       "4                            0                             0   \n",
       "\n",
       "   Product_Category_Organic  Product_Category_Pet_care  \\\n",
       "0                         0                          0   \n",
       "1                         0                          0   \n",
       "2                         0                          0   \n",
       "3                         0                          0   \n",
       "4                         0                          0   \n",
       "\n",
       "   Product_Category_Repair  Product_Category_Technology  Maximum_price_trans  \\\n",
       "0                        0                            0             8.113726   \n",
       "1                        0                            0             7.578145   \n",
       "2                        0                            1             9.662371   \n",
       "3                        0                            0             9.478687   \n",
       "4                        0                            1             8.739376   \n",
       "\n",
       "   Minprice_square  charges_1_trans  charges_2 (%)sq  \n",
       "0        50.754310         5.940171              4.0  \n",
       "1        34.669872         5.973810              4.0  \n",
       "2        84.705372         6.200509              3.0  \n",
       "3        73.511904         5.713733              4.0  \n",
       "4        63.788714         6.340359              4.0  "
      ]
     },
     "execution_count": 21,
     "metadata": {},
     "output_type": "execute_result"
    }
   ],
   "source": [
    "test_data.head()"
   ]
  },
  {
   "cell_type": "code",
   "execution_count": 22,
   "metadata": {},
   "outputs": [],
   "source": [
    "train_data.drop(['Minimum_price','Maximum_price','charges_1','charges_2 (%)'],axis=1,inplace=True)\n",
    "test_data.drop(['Minimum_price','Maximum_price','charges_1','charges_2 (%)'],axis=1,inplace=True)"
   ]
  },
  {
   "cell_type": "code",
   "execution_count": 23,
   "metadata": {},
   "outputs": [
    {
     "data": {
      "text/plain": [
       "((6368, 24), (3430, 23))"
      ]
     },
     "execution_count": 23,
     "metadata": {},
     "output_type": "execute_result"
    }
   ],
   "source": [
    "train_data.shape,test_data.shape"
   ]
  },
  {
   "cell_type": "code",
   "execution_count": 24,
   "metadata": {},
   "outputs": [
    {
     "data": {
      "text/plain": [
       "Index(['Stall_no', 'Market_Category', 'Loyalty_customer', 'Grade', 'Demand',\n",
       "       'Discount_avail', 'Selling_Price', 'instock_month', 'instock_day',\n",
       "       'instock_monthdate', 'instock_year', 'Product_Category_Cosmetics',\n",
       "       'Product_Category_Educational', 'Product_Category_Fashion',\n",
       "       'Product_Category_Home_decor', 'Product_Category_Hospitality',\n",
       "       'Product_Category_Organic', 'Product_Category_Pet_care',\n",
       "       'Product_Category_Repair', 'Product_Category_Technology',\n",
       "       'Maximum_price_trans', 'Minprice_square', 'charges_1_trans',\n",
       "       'charges_2 (%)sq'],\n",
       "      dtype='object')"
      ]
     },
     "execution_count": 24,
     "metadata": {},
     "output_type": "execute_result"
    }
   ],
   "source": [
    "train_data.columns"
   ]
  },
  {
   "cell_type": "code",
   "execution_count": 25,
   "metadata": {},
   "outputs": [],
   "source": [
    "X=train_data[['Stall_no', 'Market_Category', 'Loyalty_customer', 'Grade', 'Demand',\n",
    "       'Discount_avail', 'instock_month', 'instock_day',\n",
    "       'instock_monthdate', 'instock_year', 'Product_Category_Cosmetics',\n",
    "       'Product_Category_Educational', 'Product_Category_Fashion',\n",
    "       'Product_Category_Home_decor', 'Product_Category_Hospitality',\n",
    "       'Product_Category_Organic', 'Product_Category_Pet_care',\n",
    "       'Product_Category_Repair', 'Product_Category_Technology',\n",
    "       'Maximum_price_trans', 'Minprice_square', 'charges_1_trans',\n",
    "       'charges_2 (%)sq']]\n",
    "y=train_data['Selling_Price']"
   ]
  },
  {
   "cell_type": "code",
   "execution_count": 26,
   "metadata": {},
   "outputs": [],
   "source": [
    "from sklearn.model_selection import train_test_split\n",
    "X_train,X_test,y_train,y_test=train_test_split(X,y,test_size=0.1,random_state=10)"
   ]
  },
  {
   "cell_type": "code",
   "execution_count": 27,
   "metadata": {},
   "outputs": [
    {
     "name": "stderr",
     "output_type": "stream",
     "text": [
      "[Parallel(n_jobs=1)]: Using backend SequentialBackend with 1 concurrent workers.\n",
      "[Parallel(n_jobs=1)]: Done 100 out of 100 | elapsed:    3.0s finished\n"
     ]
    },
    {
     "data": {
      "text/plain": [
       "RandomForestRegressor(max_depth=15, random_state=0, verbose=1)"
      ]
     },
     "execution_count": 27,
     "metadata": {},
     "output_type": "execute_result"
    }
   ],
   "source": [
    "from sklearn.ensemble import RandomForestRegressor\n",
    "reg = RandomForestRegressor(max_depth = 15, random_state=0,n_estimators = 100,verbose = 1)\n",
    "reg.fit(X_train,y_train)"
   ]
  },
  {
   "cell_type": "code",
   "execution_count": 28,
   "metadata": {},
   "outputs": [
    {
     "name": "stderr",
     "output_type": "stream",
     "text": [
      "[Parallel(n_jobs=1)]: Using backend SequentialBackend with 1 concurrent workers.\n",
      "[Parallel(n_jobs=1)]: Done 100 out of 100 | elapsed:    0.0s finished\n"
     ]
    },
    {
     "data": {
      "text/plain": [
       "0.9934776635936828"
      ]
     },
     "execution_count": 28,
     "metadata": {},
     "output_type": "execute_result"
    }
   ],
   "source": [
    "reg.score(X_train,y_train)"
   ]
  },
  {
   "cell_type": "code",
   "execution_count": 29,
   "metadata": {},
   "outputs": [
    {
     "name": "stderr",
     "output_type": "stream",
     "text": [
      "[Parallel(n_jobs=1)]: Using backend SequentialBackend with 1 concurrent workers.\n",
      "[Parallel(n_jobs=1)]: Done 100 out of 100 | elapsed:    0.0s finished\n"
     ]
    }
   ],
   "source": [
    "y_pred=reg.predict(X_test)"
   ]
  },
  {
   "cell_type": "code",
   "execution_count": 30,
   "metadata": {},
   "outputs": [],
   "source": [
    "from sklearn.metrics import r2_score\n",
    "rsquare=r2_score(y_test,y_pred)"
   ]
  },
  {
   "cell_type": "code",
   "execution_count": 31,
   "metadata": {},
   "outputs": [
    {
     "data": {
      "text/plain": [
       "0.9826947743936416"
      ]
     },
     "execution_count": 31,
     "metadata": {},
     "output_type": "execute_result"
    }
   ],
   "source": [
    "rsquare"
   ]
  },
  {
   "cell_type": "code",
   "execution_count": 32,
   "metadata": {},
   "outputs": [
    {
     "name": "stdout",
     "output_type": "stream",
     "text": [
      "RMSE :  391.536958\n"
     ]
    }
   ],
   "source": [
    "from sklearn.metrics import mean_squared_error as MSE\n",
    "import numpy as np\n",
    " \n",
    "rmse = np.sqrt(MSE(y_test,y_pred)) \n",
    "print(\"RMSE : % f\" %(rmse)) "
   ]
  },
  {
   "cell_type": "code",
   "execution_count": 33,
   "metadata": {},
   "outputs": [
    {
     "name": "stderr",
     "output_type": "stream",
     "text": [
      "[Parallel(n_jobs=1)]: Using backend SequentialBackend with 1 concurrent workers.\n",
      "[Parallel(n_jobs=1)]: Done 100 out of 100 | elapsed:    0.0s finished\n"
     ]
    }
   ],
   "source": [
    "predictions=reg.predict(test_data)"
   ]
  },
  {
   "cell_type": "code",
   "execution_count": 34,
   "metadata": {},
   "outputs": [
    {
     "data": {
      "text/plain": [
       "array([ 3217.06713927,  1971.44239985, 11754.98143974, ...,\n",
       "        6553.30188303,  3692.23531957,  1109.59629885])"
      ]
     },
     "execution_count": 34,
     "metadata": {},
     "output_type": "execute_result"
    }
   ],
   "source": [
    "predictions"
   ]
  },
  {
   "cell_type": "code",
   "execution_count": 35,
   "metadata": {},
   "outputs": [],
   "source": [
    "data=pd.read_csv('test.csv')\n",
    "predictions_test=data['Product_id']"
   ]
  },
  {
   "cell_type": "code",
   "execution_count": 36,
   "metadata": {},
   "outputs": [
    {
     "name": "stderr",
     "output_type": "stream",
     "text": [
      "[Parallel(n_jobs=1)]: Using backend SequentialBackend with 1 concurrent workers.\n",
      "[Parallel(n_jobs=1)]: Done 100 out of 100 | elapsed:    0.0s finished\n"
     ]
    },
    {
     "data": {
      "text/html": [
       "<div>\n",
       "<style scoped>\n",
       "    .dataframe tbody tr th:only-of-type {\n",
       "        vertical-align: middle;\n",
       "    }\n",
       "\n",
       "    .dataframe tbody tr th {\n",
       "        vertical-align: top;\n",
       "    }\n",
       "\n",
       "    .dataframe thead th {\n",
       "        text-align: right;\n",
       "    }\n",
       "</style>\n",
       "<table border=\"1\" class=\"dataframe\">\n",
       "  <thead>\n",
       "    <tr style=\"text-align: right;\">\n",
       "      <th></th>\n",
       "      <th>Product_id</th>\n",
       "      <th>Selling_Price</th>\n",
       "    </tr>\n",
       "  </thead>\n",
       "  <tbody>\n",
       "    <tr>\n",
       "      <th>0</th>\n",
       "      <td>SCHE4YSTDVPVZVXW</td>\n",
       "      <td>3217.067139</td>\n",
       "    </tr>\n",
       "    <tr>\n",
       "      <th>1</th>\n",
       "      <td>ACCEGCATKHNRXUHW</td>\n",
       "      <td>1971.442400</td>\n",
       "    </tr>\n",
       "    <tr>\n",
       "      <th>2</th>\n",
       "      <td>NKCE6GJ5XVJDXNNZ</td>\n",
       "      <td>11754.981440</td>\n",
       "    </tr>\n",
       "    <tr>\n",
       "      <th>3</th>\n",
       "      <td>NKCEB8BK3ZXDHDHM</td>\n",
       "      <td>9358.188686</td>\n",
       "    </tr>\n",
       "    <tr>\n",
       "      <th>4</th>\n",
       "      <td>TOPEFDXSAHRNPF94</td>\n",
       "      <td>5600.751769</td>\n",
       "    </tr>\n",
       "  </tbody>\n",
       "</table>\n",
       "</div>"
      ],
      "text/plain": [
       "         Product_id  Selling_Price\n",
       "0  SCHE4YSTDVPVZVXW    3217.067139\n",
       "1  ACCEGCATKHNRXUHW    1971.442400\n",
       "2  NKCE6GJ5XVJDXNNZ   11754.981440\n",
       "3  NKCEB8BK3ZXDHDHM    9358.188686\n",
       "4  TOPEFDXSAHRNPF94    5600.751769"
      ]
     },
     "execution_count": 36,
     "metadata": {},
     "output_type": "execute_result"
    }
   ],
   "source": [
    "test_sales_bsm = reg.predict(test_data)\n",
    "test_sales_bsm\n",
    "\n",
    "final_df = pd.DataFrame()\n",
    "final_df[\"Product_id\"] = predictions_test\n",
    "final_df[\"Selling_Price\"] = test_sales_bsm\n",
    "final_df.Selling_Price = np.where(final_df.Selling_Price < 0, 0,final_df.Selling_Price)\n",
    "final_df.to_csv(\"Output_1.csv\")\n",
    "final_df.head()"
   ]
  },
  {
   "cell_type": "code",
   "execution_count": 37,
   "metadata": {},
   "outputs": [
    {
     "data": {
      "text/plain": [
       "GridSearchCV(cv=5, estimator=RandomForestRegressor(), n_jobs=-1,\n",
       "             param_grid={'bootstrap': [True, False],\n",
       "                         'max_features': ['auto', 'sqrt', 'log2'],\n",
       "                         'min_samples_split': [2, 4, 8],\n",
       "                         'n_estimators': [10, 20, 30]})"
      ]
     },
     "execution_count": 37,
     "metadata": {},
     "output_type": "execute_result"
    }
   ],
   "source": [
    "from sklearn.model_selection import GridSearchCV\n",
    "from sklearn.model_selection import ShuffleSplit\n",
    "from sklearn.ensemble import RandomForestRegressor\n",
    "\n",
    "estimator = RandomForestRegressor()\n",
    "param_grid = { \n",
    "            \"n_estimators\"      : [10,20,30],\n",
    "            \"max_features\"      : [\"auto\", \"sqrt\", \"log2\"],\n",
    "            \"min_samples_split\" : [2,4,8],\n",
    "            \"bootstrap\": [True, False],\n",
    "            }\n",
    "grid = GridSearchCV(estimator, param_grid, n_jobs=-1, cv=5)\n",
    "grid.fit(X_train, y_train)"
   ]
  },
  {
   "cell_type": "code",
   "execution_count": 38,
   "metadata": {},
   "outputs": [
    {
     "data": {
      "text/plain": [
       "0.9852894043944966"
      ]
     },
     "execution_count": 38,
     "metadata": {},
     "output_type": "execute_result"
    }
   ],
   "source": [
    "grid.score(X_train,y_train)"
   ]
  },
  {
   "cell_type": "code",
   "execution_count": 39,
   "metadata": {},
   "outputs": [
    {
     "data": {
      "text/plain": [
       "{'bootstrap': True,\n",
       " 'max_features': 'auto',\n",
       " 'min_samples_split': 8,\n",
       " 'n_estimators': 30}"
      ]
     },
     "execution_count": 39,
     "metadata": {},
     "output_type": "execute_result"
    }
   ],
   "source": [
    "grid.best_params_"
   ]
  },
  {
   "cell_type": "code",
   "execution_count": 40,
   "metadata": {},
   "outputs": [
    {
     "data": {
      "text/plain": [
       "0.9567129840103596"
      ]
     },
     "execution_count": 40,
     "metadata": {},
     "output_type": "execute_result"
    }
   ],
   "source": [
    "grid.best_score_"
   ]
  },
  {
   "cell_type": "code",
   "execution_count": 42,
   "metadata": {},
   "outputs": [
    {
     "data": {
      "text/plain": [
       "RandomForestRegressor(min_samples_split=8, n_estimators=30)"
      ]
     },
     "execution_count": 42,
     "metadata": {},
     "output_type": "execute_result"
    }
   ],
   "source": [
    "from sklearn.ensemble import RandomForestRegressor\n",
    "regg= RandomForestRegressor(bootstrap=True,max_features='auto',min_samples_split=8,n_estimators=30)\n",
    "regg.fit(X_train,y_train)"
   ]
  },
  {
   "cell_type": "code",
   "execution_count": 43,
   "metadata": {},
   "outputs": [
    {
     "data": {
      "text/plain": [
       "0.9844499537429624"
      ]
     },
     "execution_count": 43,
     "metadata": {},
     "output_type": "execute_result"
    }
   ],
   "source": [
    "regg.score(X_train,y_train)"
   ]
  },
  {
   "cell_type": "code",
   "execution_count": 44,
   "metadata": {},
   "outputs": [],
   "source": [
    "y_predd=regg.predict(X_test)"
   ]
  },
  {
   "cell_type": "code",
   "execution_count": 45,
   "metadata": {},
   "outputs": [
    {
     "data": {
      "text/plain": [
       "0.9824947836308956"
      ]
     },
     "execution_count": 45,
     "metadata": {},
     "output_type": "execute_result"
    }
   ],
   "source": [
    "r2_score(y_test,y_predd)"
   ]
  },
  {
   "cell_type": "code",
   "execution_count": 46,
   "metadata": {},
   "outputs": [
    {
     "name": "stdout",
     "output_type": "stream",
     "text": [
      "RMSE :  393.792890\n"
     ]
    }
   ],
   "source": [
    "from sklearn.metrics import mean_squared_error as MSE\n",
    "import numpy as np\n",
    " \n",
    "rmse = np.sqrt(MSE(y_test,y_predd)) \n",
    "print(\"RMSE : % f\" %(rmse)) "
   ]
  },
  {
   "cell_type": "code",
   "execution_count": 47,
   "metadata": {},
   "outputs": [],
   "source": [
    "import xgboost as xgb"
   ]
  },
  {
   "cell_type": "code",
   "execution_count": 56,
   "metadata": {},
   "outputs": [],
   "source": [
    "model =xgb.XGBRegressor(colsample_bytree=0.4,\n",
    "                 gamma=0,                 \n",
    "                 learning_rate=0.07,\n",
    "                 max_depth=3,\n",
    "                 min_child_weight=1.5,\n",
    "                 n_estimators=10000,                                                                    \n",
    "                 reg_alpha=0.75,\n",
    "                 reg_lambda=0.45,\n",
    "                 subsample=0.6,\n",
    "                 seed=42) "
   ]
  },
  {
   "cell_type": "code",
   "execution_count": 57,
   "metadata": {},
   "outputs": [
    {
     "data": {
      "text/plain": [
       "XGBRegressor(base_score=0.5, booster='gbtree', colsample_bylevel=1,\n",
       "             colsample_bynode=1, colsample_bytree=0.4, gamma=0, gpu_id=-1,\n",
       "             importance_type='gain', interaction_constraints='',\n",
       "             learning_rate=0.07, max_delta_step=0, max_depth=3,\n",
       "             min_child_weight=1.5, missing=nan, monotone_constraints='()',\n",
       "             n_estimators=10000, n_jobs=0, num_parallel_tree=1, random_state=42,\n",
       "             reg_alpha=0.75, reg_lambda=0.45, scale_pos_weight=1, seed=42,\n",
       "             subsample=0.6, tree_method='exact', validate_parameters=1,\n",
       "             verbosity=None)"
      ]
     },
     "execution_count": 57,
     "metadata": {},
     "output_type": "execute_result"
    }
   ],
   "source": [
    "model.fit(X_train, y_train)"
   ]
  },
  {
   "cell_type": "code",
   "execution_count": 58,
   "metadata": {},
   "outputs": [
    {
     "data": {
      "text/plain": [
       "0.9991390478028969"
      ]
     },
     "execution_count": 58,
     "metadata": {},
     "output_type": "execute_result"
    }
   ],
   "source": [
    "model.score(X_train,y_train)"
   ]
  },
  {
   "cell_type": "code",
   "execution_count": 62,
   "metadata": {},
   "outputs": [],
   "source": [
    "y_preddd=model.predict(X_test)"
   ]
  },
  {
   "cell_type": "code",
   "execution_count": 65,
   "metadata": {},
   "outputs": [
    {
     "data": {
      "text/plain": [
       "0.9776639317248408"
      ]
     },
     "execution_count": 65,
     "metadata": {},
     "output_type": "execute_result"
    }
   ],
   "source": [
    "r2_score(y_test,y_preddd)"
   ]
  },
  {
   "cell_type": "code",
   "execution_count": 63,
   "metadata": {},
   "outputs": [
    {
     "data": {
      "text/plain": [
       "array([ 1446.2529  ,  5767.876   ,  4756.463   ,   670.27045 ,\n",
       "        4183.6978  ,   702.3624  ,  4716.1025  ,   782.1915  ,\n",
       "        6739.3477  ,  2411.833   ,  1304.8885  ,  6912.798   ,\n",
       "        1821.9117  ,  4189.8657  ,   905.7113  ,  2761.4932  ,\n",
       "        5311.8086  ,  1691.5387  ,  3752.2236  ,  4052.9705  ,\n",
       "        5016.6763  ,  3444.3857  ,  3865.7349  ,  2983.0234  ,\n",
       "        8123.17    ,  9073.575   ,  5209.2275  ,  6423.4224  ,\n",
       "        4468.8755  ,   511.86136 ,  5068.5723  , 11188.917   ,\n",
       "         163.02591 ,  7073.657   ,   388.46857 , 10229.135   ,\n",
       "         414.37622 ,  3171.748   ,  3419.5247  ,  4673.045   ,\n",
       "         812.49255 ,  3539.5828  ,  9913.176   ,  5243.96    ,\n",
       "        2151.6667  ,  6540.105   ,  2320.338   ,  5128.0684  ,\n",
       "        3046.7637  ,  1796.7385  ,  2912.1353  ,   487.55798 ,\n",
       "        4677.232   ,  4417.0615  ,  2300.7324  ,  3928.317   ,\n",
       "        4273.2856  ,  3455.7844  ,  4073.99    ,   274.91132 ,\n",
       "        3697.778   ,  5626.7773  ,  5343.682   ,  5102.9126  ,\n",
       "        5261.2686  ,  5453.035   ,  1024.5677  ,  6409.0054  ,\n",
       "         899.1159  ,  3978.3584  ,  4822.6074  ,  5515.032   ,\n",
       "        2292.379   ,  1153.5831  ,  8084.2495  ,  1214.2378  ,\n",
       "         568.05304 ,  3239.289   ,  1410.632   ,  7193.873   ,\n",
       "        2462.0417  ,  4242.      ,  1678.6145  ,  2910.7393  ,\n",
       "        5699.8975  , 10946.387   ,  4262.0083  ,  3917.169   ,\n",
       "        2830.7703  ,  3768.0237  ,   811.436   ,  2513.4338  ,\n",
       "        5085.743   ,  2421.8296  ,  8812.299   ,   538.7421  ,\n",
       "        2818.702   ,  3831.264   ,  1027.2179  ,  2437.3706  ,\n",
       "        5055.1763  ,  1926.2358  ,  5451.182   ,  3712.0483  ,\n",
       "       15903.769   ,  8596.321   ,  9872.02    ,  5318.556   ,\n",
       "        1197.2808  ,  1482.9684  ,  4660.1143  ,  5998.0854  ,\n",
       "        5501.462   ,   480.19196 ,  5941.2456  ,  4227.3306  ,\n",
       "         177.48526 ,  3779.3315  ,  4113.077   ,  6352.0337  ,\n",
       "        8126.303   ,  1391.5997  ,  2065.3857  ,  5486.3213  ,\n",
       "        6342.6387  ,  3034.7625  ,  7481.4937  ,  4298.082   ,\n",
       "        5127.661   ,  2026.5747  ,   947.334   ,  2736.2188  ,\n",
       "        5027.5938  ,  8908.108   , 18511.453   , 10187.516   ,\n",
       "         597.2085  ,  3235.7656  ,  8955.203   ,   943.18097 ,\n",
       "         556.2516  ,  3684.8252  ,  2682.531   ,   295.03894 ,\n",
       "        3951.3794  ,  6027.0034  ,  1591.6771  ,  3306.8967  ,\n",
       "        4336.714   ,  2615.2222  ,  2740.7212  ,  3792.8608  ,\n",
       "        3636.2925  ,  1282.7026  ,  4709.5605  ,  4921.919   ,\n",
       "        5156.411   ,  3115.978   ,  1369.1893  ,  3419.7915  ,\n",
       "         630.02484 ,  8500.341   ,  1880.5349  ,  5255.6816  ,\n",
       "        1753.3344  ,  3742.51    ,  4949.616   ,  6836.201   ,\n",
       "        2487.6116  ,  2562.0198  , 12221.788   ,  4784.2227  ,\n",
       "        8528.292   ,  6531.7334  ,  6340.702   ,   472.3232  ,\n",
       "        3308.3606  , 11570.302   ,  4661.5176  ,  7923.6255  ,\n",
       "        5657.272   ,   852.85205 ,  4689.583   ,  2394.571   ,\n",
       "        4898.668   ,  8235.64    ,   554.6036  ,  3112.1792  ,\n",
       "        4642.729   ,  4779.3853  ,  8958.74    ,  5358.5527  ,\n",
       "        4584.0645  ,  1486.2683  ,   356.09705 ,  1159.0364  ,\n",
       "        1045.3921  ,  8934.314   , 12420.493   ,  8271.984   ,\n",
       "        4642.315   ,  4837.6147  ,  3334.4297  ,  5108.0415  ,\n",
       "       11771.002   ,  1070.5205  ,   859.95996 ,  2855.891   ,\n",
       "       10247.036   ,  5409.977   ,  4154.299   ,  1159.2501  ,\n",
       "        7813.031   ,  3085.8962  ,  5079.2393  ,   986.798   ,\n",
       "        4677.1377  ,  2655.2603  ,  4033.9473  ,  4437.8823  ,\n",
       "         512.4097  ,  1271.0459  ,  6866.209   ,  6044.804   ,\n",
       "        3906.47    ,  3823.739   ,  4992.2563  ,  4344.7334  ,\n",
       "        3057.5283  ,  2923.7798  ,  2992.5288  ,  3981.6667  ,\n",
       "        2787.0012  ,  5295.0273  ,  5506.494   ,  7457.5034  ,\n",
       "        4653.524   ,  1807.7634  ,   -73.30081 ,  1037.202   ,\n",
       "        4488.6826  ,  1374.3202  ,  3471.0706  ,  1337.5138  ,\n",
       "        7019.485   ,  4259.9644  ,  3268.4917  ,  5305.7705  ,\n",
       "        6859.4854  ,  6739.983   ,   148.5205  ,  4503.7896  ,\n",
       "        9589.056   ,  4363.6025  ,  2118.8813  ,  3250.9094  ,\n",
       "        4965.491   ,  4013.9507  ,  4034.8457  ,  3759.301   ,\n",
       "        3598.909   ,  4049.7837  ,  5855.5327  ,  1153.4447  ,\n",
       "        4080.8232  ,  1186.7465  ,  1280.3833  , 16423.824   ,\n",
       "        7770.8647  ,  3673.4465  ,  6674.0957  ,  4319.207   ,\n",
       "        3087.3633  , 13023.604   ,  1221.0966  ,  5887.545   ,\n",
       "        2688.008   ,   630.548   , 11011.454   ,  2178.5608  ,\n",
       "        2204.6887  ,  2405.5315  ,  2025.5892  ,  5275.1743  ,\n",
       "        5551.207   ,  6967.389   , 10196.913   ,  5558.2217  ,\n",
       "        4757.503   ,  7350.387   ,   867.49396 ,  2412.8066  ,\n",
       "        1477.4897  ,  6158.814   ,  1770.656   ,  2645.9932  ,\n",
       "        2676.9524  ,  7911.503   ,  2213.0483  ,  7673.335   ,\n",
       "        3319.9587  ,  3186.685   ,  5941.4526  ,  5462.8496  ,\n",
       "        2341.719   ,  6851.1055  ,  7948.1235  ,  3670.9434  ,\n",
       "        3356.0398  ,  5108.787   ,  5541.607   ,  5076.8926  ,\n",
       "        5916.6465  ,  4569.0576  ,  5270.9136  ,  3016.5386  ,\n",
       "        5447.382   ,   551.5497  ,  1147.6566  ,  8343.904   ,\n",
       "        2788.1548  ,  2589.6755  ,  1145.3463  ,  3261.1594  ,\n",
       "         646.9372  , 12636.748   ,  6244.058   ,  6384.2124  ,\n",
       "        2914.3635  ,  9500.79    ,  5194.358   ,  4308.387   ,\n",
       "        8928.489   ,  5306.4893  ,  3229.1167  ,  2618.339   ,\n",
       "        8103.677   , 10290.9795  ,  7333.595   ,  4122.5396  ,\n",
       "        3544.2312  ,  3792.816   ,  1230.3373  ,  5310.217   ,\n",
       "        3730.965   ,  3496.286   ,  4096.151   ,  5586.948   ,\n",
       "       10550.73    ,  4312.939   ,  6183.5396  ,  2261.3982  ,\n",
       "        3149.9224  ,  2407.6946  ,  6955.6836  ,   635.45337 ,\n",
       "        6196.6416  ,  7342.783   ,   878.30225 ,  3611.346   ,\n",
       "        6439.3735  ,  7613.263   ,  3870.934   ,  5510.7363  ,\n",
       "        2356.2825  ,  5428.845   ,  3959.8984  ,  7221.2637  ,\n",
       "         457.6002  ,  6067.2114  ,  5067.3467  ,  7890.9214  ,\n",
       "         823.0958  ,  6825.2056  ,  4794.5356  ,  5455.642   ,\n",
       "        6590.996   ,  4570.595   ,  1879.1857  , 10493.5205  ,\n",
       "        6526.3438  ,  3605.7432  ,  4125.086   , 10402.865   ,\n",
       "        4884.54    ,  4656.505   ,  2977.0054  ,   741.8489  ,\n",
       "        3634.716   ,  6118.3486  ,  3268.6785  , 15202.168   ,\n",
       "        6377.1074  ,  6664.5176  ,  1051.9023  ,   776.5908  ,\n",
       "         668.38135 ,  4481.66    ,   673.29596 ,  1902.3583  ,\n",
       "        3492.6792  ,  9636.016   ,  2360.0215  ,  4069.2527  ,\n",
       "        4180.846   ,  6451.0356  ,  9472.75    ,   609.69165 ,\n",
       "       10197.622   , 11786.633   ,   -54.710957,  3388.3384  ,\n",
       "        6135.8794  ,  6443.607   ,  2457.0027  ,  5219.063   ,\n",
       "        2739.4402  ,  2379.6267  ,   548.0271  ,  4425.061   ,\n",
       "       10627.109   ,  8464.153   ,  8167.823   ,  4941.8257  ,\n",
       "        7161.477   ,  3082.2905  ,  1862.1178  ,  4567.849   ,\n",
       "        3820.767   ,  8198.254   ,  1741.461   ,   437.08197 ,\n",
       "        3243.4639  ,  3934.5112  ,  2912.6538  ,  3714.863   ,\n",
       "        6426.0015  ,  3576.3606  ,  3745.4758  ,  3648.0806  ,\n",
       "        6158.0503  ,  9347.441   ,  3887.9104  ,  1582.0359  ,\n",
       "        8430.802   ,  2379.0344  ,  5249.2485  ,  1819.5137  ,\n",
       "        4678.032   , 10409.051   ,  7205.0557  ,  3203.3171  ,\n",
       "        3893.295   ,  2909.2979  ,  2719.1707  , 13873.387   ,\n",
       "        8001.2334  ,   272.18106 ,  2158.301   ,  1962.2631  ,\n",
       "        7184.0767  ,  2738.9297  ,  8701.804   ,  9211.851   ,\n",
       "       10275.9375  ,  1674.7549  ,  2942.949   ,  2146.8967  ,\n",
       "        2377.9897  ,  3056.3604  ,  4499.8833  , 11133.848   ,\n",
       "        5209.119   ,  1905.6722  ,  5560.7153  ,  1392.1544  ,\n",
       "         872.3329  ,  7357.886   ,  1288.5813  ,   344.7077  ,\n",
       "         881.0564  ,  3042.0706  ,  8411.27    ,   769.7421  ,\n",
       "         742.70465 ,  9775.919   ,  3357.2007  ,   926.9052  ,\n",
       "         700.0829  ,  2733.9119  , 11404.012   ,  1036.4309  ,\n",
       "        5803.2905  ,  3036.5298  ,  6865.7046  ,  2150.8735  ,\n",
       "        2426.7952  ,  4552.723   ,  2686.6995  ,  2929.8396  ,\n",
       "        5219.257   ,  7901.1177  ,  3807.984   ,  3966.8186  ,\n",
       "        2267.4734  ,  3332.0862  ,  7471.404   ,   111.642815,\n",
       "         475.2721  ,  6097.1733  ,  1655.2606  ,  7374.147   ,\n",
       "        4353.794   ,  1702.4052  ,  5305.0903  ,  3564.2207  ,\n",
       "        3271.0845  ,  1360.2477  ,  4472.5796  ,  7216.686   ,\n",
       "        5587.8066  ,  5281.0693  , 11446.376   ,  5084.8184  ,\n",
       "        4610.406   ,  1717.5769  ,  9676.899   ,   366.4691  ,\n",
       "        4438.647   ,  1161.6174  ,  2359.9214  ,  4354.085   ,\n",
       "         631.4926  ,  9557.465   ,  3279.081   ,  5909.097   ,\n",
       "        4819.1895  ,  7472.4106  ,  7132.729   ,  2513.4714  ,\n",
       "         653.68427 , 16762.219   ,  5838.453   ,  3947.3064  ,\n",
       "        6201.0044  ,  9290.316   ,  1952.3401  ,  3554.8416  ,\n",
       "       11932.579   ,  3921.3577  ,  9934.727   ,  1805.502   ,\n",
       "        4401.014   ,  1097.2072  ,  4120.4478  ,  7888.9224  ,\n",
       "        4916.6206  ,  3636.2297  ,  2605.8887  ,  5872.051   ,\n",
       "        3618.4001  ,  2840.0264  ,  5303.7544  ,   810.019   ,\n",
       "        3972.7266  ,  3279.8381  ,  9289.6875  ,  3335.2305  ,\n",
       "        7965.788   , 13652.7705  ,  4522.0044  ,   928.6203  ,\n",
       "         810.88275 ,  2843.1672  ,  4206.1797  ,  4040.1052  ,\n",
       "         959.2936  ,  3539.9297  ,  2760.3972  ,  3526.7427  ,\n",
       "        5787.6216  ,  2215.3994  ,  3270.2266  ,  5764.322   ,\n",
       "        3934.3557  ,  1304.4183  ,  2655.2922  ,  4143.4873  ,\n",
       "        4001.9539  ,  5619.8423  ,  3431.4255  ,  3294.8281  ,\n",
       "        4031.6711  ,   665.74615 ,   762.8977  ,  8522.468   ,\n",
       "       10951.282   ,  3565.63    ,  1438.888   ,  2303.0352  ,\n",
       "        5259.5513  ,  4549.509   ,  4585.9795  ,  5493.0996  ,\n",
       "        3903.0107  ,   729.7462  ,  4240.635   ,  5246.304   ,\n",
       "         710.90466 ,  1139.0186  ,  5978.936   ,  4707.355   ,\n",
       "        -912.54297 ,  4617.174   ,  3738.0278  ,  2071.7166  ,\n",
       "         701.6437  ,  4345.102   , 10994.072   ,   440.96735 ,\n",
       "        2883.3096  ,  2426.8452  ,  1971.0156  ,  9225.976   ,\n",
       "        5339.7305  ,  2750.136   ,  1049.725   ,  2234.2769  ,\n",
       "        5376.8574  ,  2320.5063  ,  1541.6624  ,   509.2897  ,\n",
       "        7358.4194  ,  5314.732   ,  1018.2478  ,  5959.3633  ,\n",
       "         466.6144  ], dtype=float32)"
      ]
     },
     "execution_count": 63,
     "metadata": {},
     "output_type": "execute_result"
    }
   ],
   "source": [
    "y_preddd"
   ]
  },
  {
   "cell_type": "code",
   "execution_count": 64,
   "metadata": {},
   "outputs": [
    {
     "name": "stdout",
     "output_type": "stream",
     "text": [
      "RMSE :  444.823265\n"
     ]
    }
   ],
   "source": [
    "from sklearn.metrics import mean_squared_error as MSE\n",
    "import numpy as np\n",
    " \n",
    "rmse = np.sqrt(MSE(y_test,y_preddd)) \n",
    "print(\"RMSE : % f\" %(rmse)) "
   ]
  },
  {
   "cell_type": "code",
   "execution_count": 66,
   "metadata": {},
   "outputs": [],
   "source": [
    "#CHECKING FOR CORRELATION"
   ]
  },
  {
   "cell_type": "code",
   "execution_count": 67,
   "metadata": {},
   "outputs": [],
   "source": [
    "# find and remove correlated features\n",
    "def correlation(dataset, threshold):\n",
    "    col_corr = set() \n",
    "    corr_matrix = dataset.corr()\n",
    "    for i in range(len(corr_matrix.columns)):\n",
    "        for j in range(i):\n",
    "            if abs(corr_matrix.iloc[i, j]) > threshold: \n",
    "                colname = corr_matrix.columns[i]  \n",
    "                col_corr.add(colname)\n",
    "    return col_corr"
   ]
  },
  {
   "cell_type": "code",
   "execution_count": 69,
   "metadata": {},
   "outputs": [
    {
     "data": {
      "text/plain": [
       "{'instock_year'}"
      ]
     },
     "execution_count": 69,
     "metadata": {},
     "output_type": "execute_result"
    }
   ],
   "source": [
    "correlation(train_data,0.80)"
   ]
  },
  {
   "cell_type": "code",
   "execution_count": null,
   "metadata": {},
   "outputs": [],
   "source": []
  },
  {
   "cell_type": "code",
   "execution_count": 73,
   "metadata": {},
   "outputs": [],
   "source": [
    "from sklearn.feature_selection import mutual_info_regression\n",
    "mutual_data=mutual_info_regression(X,y)\n"
   ]
  },
  {
   "cell_type": "code",
   "execution_count": 74,
   "metadata": {},
   "outputs": [],
   "source": [
    "mutual_info=pd.Series(mutual_data,index=X.columns)\n"
   ]
  },
  {
   "cell_type": "code",
   "execution_count": 75,
   "metadata": {},
   "outputs": [
    {
     "data": {
      "text/plain": [
       "Maximum_price_trans             1.462429\n",
       "Minprice_square                 1.174217\n",
       "Market_Category                 0.344078\n",
       "Discount_avail                  0.310563\n",
       "instock_month                   0.212819\n",
       "instock_monthdate               0.190724\n",
       "Grade                           0.070879\n",
       "instock_day                     0.042169\n",
       "instock_year                    0.018254\n",
       "Demand                          0.006742\n",
       "Loyalty_customer                0.006721\n",
       "Product_Category_Hospitality    0.004683\n",
       "Product_Category_Pet_care       0.003180\n",
       "charges_2 (%)sq                 0.000000\n",
       "Product_Category_Educational    0.000000\n",
       "Product_Category_Cosmetics      0.000000\n",
       "charges_1_trans                 0.000000\n",
       "Product_Category_Fashion        0.000000\n",
       "Product_Category_Home_decor     0.000000\n",
       "Product_Category_Organic        0.000000\n",
       "Product_Category_Repair         0.000000\n",
       "Product_Category_Technology     0.000000\n",
       "Stall_no                        0.000000\n",
       "dtype: float64"
      ]
     },
     "execution_count": 75,
     "metadata": {},
     "output_type": "execute_result"
    }
   ],
   "source": [
    "mutual_info.sort_values(ascending=False)"
   ]
  },
  {
   "cell_type": "code",
   "execution_count": 89,
   "metadata": {},
   "outputs": [
    {
     "data": {
      "text/plain": [
       "Maximum_price_trans             1.462429\n",
       "Minprice_square                 1.174217\n",
       "Market_Category                 0.344078\n",
       "Discount_avail                  0.310563\n",
       "instock_month                   0.212819\n",
       "instock_monthdate               0.190724\n",
       "Grade                           0.070879\n",
       "instock_day                     0.042169\n",
       "instock_year                    0.018254\n",
       "Demand                          0.006742\n",
       "Loyalty_customer                0.006721\n",
       "Product_Category_Hospitality    0.004683\n",
       "Product_Category_Pet_care       0.003180\n",
       "Stall_no                        0.000000\n",
       "Product_Category_Cosmetics      0.000000\n",
       "dtype: float64"
      ]
     },
     "execution_count": 89,
     "metadata": {},
     "output_type": "execute_result"
    }
   ],
   "source": [
    "mutual_info.nlargest(15)"
   ]
  },
  {
   "cell_type": "code",
   "execution_count": 90,
   "metadata": {},
   "outputs": [],
   "source": [
    "X_train_1=X_train[['Maximum_price_trans','Minprice_square','Market_Category','Discount_avail','instock_monthdate','instock_month','Grade','instock_day','Demand','instock_year','Loyalty_customer','Product_Category_Hospitality','Product_Category_Pet_care']]\n",
    "X_test_1=X_test[['Maximum_price_trans','Minprice_square','Market_Category','Discount_avail','instock_monthdate','instock_month','Grade','instock_day','Demand','instock_year','Loyalty_customer','Product_Category_Hospitality','Product_Category_Pet_care']]"
   ]
  },
  {
   "cell_type": "code",
   "execution_count": 91,
   "metadata": {},
   "outputs": [
    {
     "name": "stderr",
     "output_type": "stream",
     "text": [
      "[Parallel(n_jobs=1)]: Using backend SequentialBackend with 1 concurrent workers.\n",
      "[Parallel(n_jobs=1)]: Done 100 out of 100 | elapsed:    2.1s finished\n"
     ]
    },
    {
     "data": {
      "text/plain": [
       "RandomForestRegressor(max_depth=15, random_state=0, verbose=1)"
      ]
     },
     "execution_count": 91,
     "metadata": {},
     "output_type": "execute_result"
    }
   ],
   "source": [
    "from sklearn.ensemble import RandomForestRegressor\n",
    "reg2 = RandomForestRegressor(max_depth = 15, random_state=0,n_estimators = 100,verbose = 1)\n",
    "reg2.fit(X_train_1,y_train)"
   ]
  },
  {
   "cell_type": "code",
   "execution_count": 92,
   "metadata": {},
   "outputs": [
    {
     "name": "stderr",
     "output_type": "stream",
     "text": [
      "[Parallel(n_jobs=1)]: Using backend SequentialBackend with 1 concurrent workers.\n",
      "[Parallel(n_jobs=1)]: Done 100 out of 100 | elapsed:    0.0s finished\n"
     ]
    },
    {
     "data": {
      "text/plain": [
       "0.9932270398501446"
      ]
     },
     "execution_count": 92,
     "metadata": {},
     "output_type": "execute_result"
    }
   ],
   "source": [
    "reg2.score(X_train_1,y_train)"
   ]
  },
  {
   "cell_type": "code",
   "execution_count": 93,
   "metadata": {},
   "outputs": [
    {
     "name": "stderr",
     "output_type": "stream",
     "text": [
      "[Parallel(n_jobs=1)]: Using backend SequentialBackend with 1 concurrent workers.\n",
      "[Parallel(n_jobs=1)]: Done 100 out of 100 | elapsed:    0.0s finished\n"
     ]
    }
   ],
   "source": [
    "y_pr=reg2.predict(X_test_1)"
   ]
  },
  {
   "cell_type": "code",
   "execution_count": 94,
   "metadata": {},
   "outputs": [
    {
     "data": {
      "text/plain": [
       "0.9811746374171664"
      ]
     },
     "execution_count": 94,
     "metadata": {},
     "output_type": "execute_result"
    }
   ],
   "source": [
    "r2_score(y_test,y_pr)"
   ]
  },
  {
   "cell_type": "code",
   "execution_count": 95,
   "metadata": {},
   "outputs": [
    {
     "name": "stdout",
     "output_type": "stream",
     "text": [
      "RMSE :  408.371856\n"
     ]
    }
   ],
   "source": [
    "from sklearn.metrics import mean_squared_error as MSE\n",
    "import numpy as np\n",
    " \n",
    "rmse = np.sqrt(MSE(y_test,y_pr)) \n",
    "print(\"RMSE : % f\" %(rmse)) "
   ]
  },
  {
   "cell_type": "code",
   "execution_count": null,
   "metadata": {},
   "outputs": [],
   "source": []
  }
 ],
 "metadata": {
  "kernelspec": {
   "display_name": "Python 3",
   "language": "python",
   "name": "python3"
  },
  "language_info": {
   "codemirror_mode": {
    "name": "ipython",
    "version": 3
   },
   "file_extension": ".py",
   "mimetype": "text/x-python",
   "name": "python",
   "nbconvert_exporter": "python",
   "pygments_lexer": "ipython3",
   "version": "3.7.6"
  }
 },
 "nbformat": 4,
 "nbformat_minor": 4
}
